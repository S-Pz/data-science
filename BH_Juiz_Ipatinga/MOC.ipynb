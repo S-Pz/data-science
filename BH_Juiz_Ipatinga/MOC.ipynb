{
  "cells": [
    {
      "cell_type": "code",
      "execution_count": 3,
      "id": "97224256",
      "metadata": {
        "id": "97224256"
      },
      "outputs": [],
      "source": [
        "import pandas as pd"
      ]
    },
    {
      "cell_type": "markdown",
      "id": "08223872",
      "metadata": {
        "id": "08223872"
      },
      "source": [
        "#### Base de Dados Síflis"
      ]
    },
    {
      "cell_type": "code",
      "execution_count": 4,
      "id": "e9f4ba05",
      "metadata": {
        "id": "e9f4ba05"
      },
      "outputs": [],
      "source": [
        "data = pd.read_csv(\"babf2604-06a5-42b9-8038-0ea1d54051fb.csv\")\n",
        "dbh = data[data['ID_MUNICIP'] == \"BELO HORIZONTE\"]\n",
        "dbh = dbh[dbh[\"NU_ANO\"] != 2024]\n",
        "df_agrupado = dbh['NU_ANO'].value_counts().reset_index()\n",
        "df_agrupado.columns = ['Ano', 'Casos']"
      ]
    },
    {
      "cell_type": "code",
      "execution_count": 5,
      "id": "870aae4e",
      "metadata": {},
      "outputs": [
        {
          "data": {
            "text/html": [
              "<div>\n",
              "<style scoped>\n",
              "    .dataframe tbody tr th:only-of-type {\n",
              "        vertical-align: middle;\n",
              "    }\n",
              "\n",
              "    .dataframe tbody tr th {\n",
              "        vertical-align: top;\n",
              "    }\n",
              "\n",
              "    .dataframe thead th {\n",
              "        text-align: right;\n",
              "    }\n",
              "</style>\n",
              "<table border=\"1\" class=\"dataframe\">\n",
              "  <thead>\n",
              "    <tr style=\"text-align: right;\">\n",
              "      <th></th>\n",
              "      <th>Ano</th>\n",
              "      <th>Casos</th>\n",
              "    </tr>\n",
              "  </thead>\n",
              "  <tbody>\n",
              "    <tr>\n",
              "      <th>0</th>\n",
              "      <td>2019</td>\n",
              "      <td>1121</td>\n",
              "    </tr>\n",
              "    <tr>\n",
              "      <th>1</th>\n",
              "      <td>2018</td>\n",
              "      <td>1100</td>\n",
              "    </tr>\n",
              "    <tr>\n",
              "      <th>2</th>\n",
              "      <td>2023</td>\n",
              "      <td>983</td>\n",
              "    </tr>\n",
              "    <tr>\n",
              "      <th>3</th>\n",
              "      <td>2017</td>\n",
              "      <td>898</td>\n",
              "    </tr>\n",
              "    <tr>\n",
              "      <th>4</th>\n",
              "      <td>2022</td>\n",
              "      <td>818</td>\n",
              "    </tr>\n",
              "  </tbody>\n",
              "</table>\n",
              "</div>"
            ],
            "text/plain": [
              "    Ano  Casos\n",
              "0  2019   1121\n",
              "1  2018   1100\n",
              "2  2023    983\n",
              "3  2017    898\n",
              "4  2022    818"
            ]
          },
          "execution_count": 5,
          "metadata": {},
          "output_type": "execute_result"
        }
      ],
      "source": [
        "df_agrupado.head()"
      ]
    },
    {
      "cell_type": "markdown",
      "id": "8ec54692",
      "metadata": {
        "id": "8ec54692"
      },
      "source": [
        "#### Base de Belo Horizonte"
      ]
    },
    {
      "cell_type": "code",
      "execution_count": 9,
      "id": "ec0561ab",
      "metadata": {
        "id": "ec0561ab"
      },
      "outputs": [],
      "source": [
        "df = pd.read_csv(\"Dados_BeloHorizonte.csv\",encoding=\"latin1\", sep=\";\")\n",
        "df = df[df[\"Ano\"] >= 2010]"
      ]
    },
    {
      "cell_type": "code",
      "execution_count": 10,
      "id": "x2nLoMboEhU1",
      "metadata": {
        "colab": {
          "base_uri": "https://localhost:8080/"
        },
        "id": "x2nLoMboEhU1",
        "outputId": "ccb3e138-db64-470a-8dfc-89833e4e9a43"
      },
      "outputs": [
        {
          "data": {
            "text/plain": [
              "Index(['Ano', 'Índice Mineiro de Responsabilidade Social',\n",
              "       'Índice Mineiro de Responsabilidade Social - Assistência Social',\n",
              "       'Índice Mineiro de Responsabilidade Social - Cultura',\n",
              "       'Índice Mineiro de Responsabilidade Social - Cultura, Esporte, Turismo e Lazer',\n",
              "       'Índice Mineiro de Responsabilidade Social - Educação',\n",
              "       'Índice Mineiro de Responsabilidade Social - Esporte, Turismo e Lazer',\n",
              "       'Índice Mineiro de Responsabilidade Social - Finanças municipais',\n",
              "       'Índice Mineiro de Responsabilidade Social - Meio Ambiente',\n",
              "       'Índice Mineiro de Responsabilidade Social - Saneamento, Habitação e Meio Ambiente',\n",
              "       ...\n",
              "       'Existência de Conselho de Segurança Pública',\n",
              "       'Pessoas elegíveis ao Auxílio emergencial',\n",
              "       'Auxílio emergencial - total',\n",
              "       'Auxílio emergencial por pessoa elegível', 'Auxílio emergencial - BF',\n",
              "       'Auxílio emergencial - % BF', 'Transferências totais - BF, BPC e AE',\n",
              "       'Participação do AE nas transferências totais',\n",
              "       'Transferências totais per capita - BF, BPC e AE',\n",
              "       'Número de médicos por 1000 habitantes'],\n",
              "      dtype='object', length=409)"
            ]
          },
          "execution_count": 10,
          "metadata": {},
          "output_type": "execute_result"
        }
      ],
      "source": [
        "df.columns"
      ]
    },
    {
      "cell_type": "code",
      "execution_count": 11,
      "id": "70032b24",
      "metadata": {
        "colab": {
          "base_uri": "https://localhost:8080/",
          "height": 1000
        },
        "id": "70032b24",
        "outputId": "82023709-e3ef-4d44-bc2a-0149d7460a3a"
      },
      "outputs": [],
      "source": [
        "#Retira todas as colunas que tem valores null > 3\n",
        "df.isnull().sum()\n",
        "df = df.drop(columns=df.columns[df.isnull().sum() > 3])"
      ]
    },
    {
      "cell_type": "markdown",
      "id": "5b55da50",
      "metadata": {
        "id": "5b55da50"
      },
      "source": [
        "#### Base de João Monlevade"
      ]
    },
    {
      "cell_type": "code",
      "execution_count": 6,
      "id": "091fcbff",
      "metadata": {
        "id": "091fcbff"
      },
      "outputs": [],
      "source": [
        "df = pd.read_csv(\"SaudeBH.csv\",encoding=\"latin1\", sep=\";\")\n",
        "df = df[df[\"Ano\"] >= 2010]"
      ]
    },
    {
      "cell_type": "code",
      "execution_count": 7,
      "id": "de6608e4",
      "metadata": {
        "id": "de6608e4"
      },
      "outputs": [],
      "source": [
        "df.isnull().sum()\n",
        "df = df.drop(columns=df.columns[df.isnull().sum() > 3])"
      ]
    },
    {
      "cell_type": "code",
      "execution_count": 8,
      "id": "ha0jNjG0FmFW",
      "metadata": {
        "colab": {
          "base_uri": "https://localhost:8080/"
        },
        "id": "ha0jNjG0FmFW",
        "outputId": "fa4bd90b-a8a6-43ad-9d24-b038bb72fdf2"
      },
      "outputs": [
        {
          "data": {
            "text/plain": [
              "Index(['Ano',\n",
              "       'Casos confirmados notificados de sífilis congênita em menores de 1 ano',\n",
              "       'Proporção da população atendida pela Estratégia de Saúde da Família',\n",
              "       'Proporção de nascidos vivos cujas mães realizaram 7 ou mais consultas de pré-natal',\n",
              "       'Cobertura vacinal contra poliomielite em menores de 1 ano',\n",
              "       'Cobertura vacinal de tríplice viral da população de 1 ano de idade',\n",
              "       'Cobertura vacinal de febre amarela em menores de 1 ano',\n",
              "       'Proporção de óbitos por causas mal definidas',\n",
              "       'Proporção de óbitos por causas mal definidas sem assistência médica',\n",
              "       'Proporção de internações por doenças cérebro vasculares na população de 40 anos ou mais',\n",
              "       'Proporção de internações por diabetes mellitus e suas complicações na população de 30 anos ou mais',\n",
              "       'Proporção de internações hospitalares por condições sensíveis à atenção primária (portaria N.º 221 de 17 de abril 2008)',\n",
              "       'Proporção de internações hospitalares por condições sensíveis à atenção primária da população de 1 a 5 anos (portaria N.º 221 de 17 de abril 2008)',\n",
              "       'Proporção de internações hospitalares por condições sensíveis à atenção primária da população de 60 anos ou mais (portaria N.º 221 de 17 de abril 2008)',\n",
              "       'Proporção das internações de média complexidade de pacientes do SUS encaminhados para outra microrregião',\n",
              "       'Proporção das internações para o parto de pacientes do SUS encaminhadas para outra microrregião',\n",
              "       'Cobertura vacinal de Pentavalente em menores de 1 ano',\n",
              "       'Gasto per capita com atividades de saúde',\n",
              "       'Esforço orçamentário em atividades de saúde'],\n",
              "      dtype='object')"
            ]
          },
          "execution_count": 8,
          "metadata": {},
          "output_type": "execute_result"
        }
      ],
      "source": [
        "df.columns"
      ]
    },
    {
      "cell_type": "markdown",
      "id": "10f5f289",
      "metadata": {
        "id": "10f5f289"
      },
      "source": [
        "##### Base de Renda\n",
        "\n",
        "Gestão"
      ]
    },
    {
      "cell_type": "code",
      "execution_count": 5,
      "id": "73f456c1",
      "metadata": {
        "id": "73f456c1"
      },
      "outputs": [],
      "source": [
        "df = pd.read_csv(\"RendaBH.csv\",encoding=\"latin1\", sep=\";\")\n",
        "df = df[df[\"Ano\"] >= 2010]"
      ]
    },
    {
      "cell_type": "code",
      "execution_count": 6,
      "id": "2eeb282d",
      "metadata": {
        "id": "2eeb282d"
      },
      "outputs": [],
      "source": [
        "df.isnull().sum()\n",
        "df = df.drop(columns=df.columns[df.isnull().sum() > 3])"
      ]
    },
    {
      "cell_type": "code",
      "execution_count": 7,
      "id": "TeCuxHk4GUoj",
      "metadata": {
        "colab": {
          "base_uri": "https://localhost:8080/"
        },
        "id": "TeCuxHk4GUoj",
        "outputId": "5dfddc80-e810-4055-cf0d-4210a226a05d"
      },
      "outputs": [
        {
          "data": {
            "text/plain": [
              "13"
            ]
          },
          "execution_count": 7,
          "metadata": {},
          "output_type": "execute_result"
        }
      ],
      "source": [
        "len(df.columns)"
      ]
    },
    {
      "cell_type": "markdown",
      "id": "13bb250e",
      "metadata": {
        "id": "13bb250e"
      },
      "source": [
        "## MERGE DAS BASES"
      ]
    },
    {
      "cell_type": "code",
      "execution_count": 12,
      "id": "ae821ba4",
      "metadata": {
        "id": "ae821ba4"
      },
      "outputs": [],
      "source": [
        "df_agrupado['Ano'] = df_agrupado['Ano'].astype(str)\n",
        "df['Ano'] = df['Ano'].astype(str)\n",
        "\n",
        "df_merged = df_agrupado.merge(df, left_on=\"Ano\", right_on=\"Ano\", how=\"left\")\n"
      ]
    },
    {
      "cell_type": "code",
      "execution_count": 13,
      "id": "BUAuk94aJ6mO",
      "metadata": {
        "colab": {
          "base_uri": "https://localhost:8080/",
          "height": 313
        },
        "id": "BUAuk94aJ6mO",
        "outputId": "b2de54a0-8994-446a-977b-22c971b03720"
      },
      "outputs": [
        {
          "data": {
            "text/html": [
              "<div>\n",
              "<style scoped>\n",
              "    .dataframe tbody tr th:only-of-type {\n",
              "        vertical-align: middle;\n",
              "    }\n",
              "\n",
              "    .dataframe tbody tr th {\n",
              "        vertical-align: top;\n",
              "    }\n",
              "\n",
              "    .dataframe thead th {\n",
              "        text-align: right;\n",
              "    }\n",
              "</style>\n",
              "<table border=\"1\" class=\"dataframe\">\n",
              "  <thead>\n",
              "    <tr style=\"text-align: right;\">\n",
              "      <th></th>\n",
              "      <th>Ano</th>\n",
              "      <th>Taxa de atendimento escolar às crianças de 4 e 5 anos</th>\n",
              "      <th>Taxa de escolarização líquida do Ensino Fundamental</th>\n",
              "      <th>Taxa de crianças que frequentam o Ensino Fundamental na série adequada</th>\n",
              "      <th>Taxa de escolarização líquida do Ensino Médio</th>\n",
              "      <th>Taxa de adolescentes que frequentam o Ensino Médio na série adequada</th>\n",
              "      <th>Total de escolas que oferecem os anos iniciais do Ensino Fundamental Regular</th>\n",
              "      <th>Total de escolas que oferecem os anos finais do Ensino Fundamental Regular</th>\n",
              "      <th>Total de escolas que oferecem o Ensino Fundamental Regular completo</th>\n",
              "      <th>Total de escolas que oferecem o Ensino Médio Regular</th>\n",
              "      <th>...</th>\n",
              "      <th>Número de policiais militares</th>\n",
              "      <th>Razão entre homicídios dolosos e policial militar</th>\n",
              "      <th>Habitantes por policial civil ou militar</th>\n",
              "      <th>Habitantes por juiz na comarca</th>\n",
              "      <th>Natureza da unidade policial militar</th>\n",
              "      <th>Existência de unidade prisional</th>\n",
              "      <th>Número de pessoas presas em estabelecimento da SEJUSP</th>\n",
              "      <th>Taxa de ocupação penitenciária em estabelecimento da SEJUSP no município.</th>\n",
              "      <th>O município é sede de comarca</th>\n",
              "      <th>Número de médicos por 1000 habitantes</th>\n",
              "    </tr>\n",
              "  </thead>\n",
              "  <tbody>\n",
              "    <tr>\n",
              "      <th>0</th>\n",
              "      <td>2010</td>\n",
              "      <td>71,43</td>\n",
              "      <td>100,00</td>\n",
              "      <td>87,56</td>\n",
              "      <td>67,44</td>\n",
              "      <td>59,44</td>\n",
              "      <td>678</td>\n",
              "      <td>466</td>\n",
              "      <td>390</td>\n",
              "      <td>257</td>\n",
              "      <td>...</td>\n",
              "      <td>13389.0</td>\n",
              "      <td>0,05</td>\n",
              "      <td>177,40</td>\n",
              "      <td>13889,77</td>\n",
              "      <td>Sede da 1ª RPM e do 1º, 5º, 13º, 16º, 22º,34º,...</td>\n",
              "      <td>Sim</td>\n",
              "      <td>11805.0</td>\n",
              "      <td>186,27</td>\n",
              "      <td>Sim</td>\n",
              "      <td>4,61</td>\n",
              "    </tr>\n",
              "    <tr>\n",
              "      <th>1</th>\n",
              "      <td>2011</td>\n",
              "      <td>66,47</td>\n",
              "      <td>75,56</td>\n",
              "      <td>69,45</td>\n",
              "      <td>64,87</td>\n",
              "      <td>57,03</td>\n",
              "      <td>663</td>\n",
              "      <td>472</td>\n",
              "      <td>396</td>\n",
              "      <td>261</td>\n",
              "      <td>...</td>\n",
              "      <td>13265.0</td>\n",
              "      <td>0,06</td>\n",
              "      <td>143,97</td>\n",
              "      <td>11866,60</td>\n",
              "      <td>Sede da 1ª RPM e do 1º, 5º, 13º, 16º, 22º,34º,...</td>\n",
              "      <td>Sim</td>\n",
              "      <td>1954.0</td>\n",
              "      <td>199,01</td>\n",
              "      <td>Sim</td>\n",
              "      <td>4,78</td>\n",
              "    </tr>\n",
              "    <tr>\n",
              "      <th>2</th>\n",
              "      <td>2012</td>\n",
              "      <td>63,56</td>\n",
              "      <td>72,18</td>\n",
              "      <td>66,43</td>\n",
              "      <td>62,90</td>\n",
              "      <td>55,32</td>\n",
              "      <td>653</td>\n",
              "      <td>464</td>\n",
              "      <td>389</td>\n",
              "      <td>264</td>\n",
              "      <td>...</td>\n",
              "      <td>11823.0</td>\n",
              "      <td>0,07</td>\n",
              "      <td>NaN</td>\n",
              "      <td>12378,87</td>\n",
              "      <td>1ª RPM</td>\n",
              "      <td>Sim</td>\n",
              "      <td>1370.0</td>\n",
              "      <td>133,02</td>\n",
              "      <td>Sim</td>\n",
              "      <td>4,99</td>\n",
              "    </tr>\n",
              "    <tr>\n",
              "      <th>3</th>\n",
              "      <td>2013</td>\n",
              "      <td>67,48</td>\n",
              "      <td>81,49</td>\n",
              "      <td>78,30</td>\n",
              "      <td>62,60</td>\n",
              "      <td>57,66</td>\n",
              "      <td>650</td>\n",
              "      <td>473</td>\n",
              "      <td>395</td>\n",
              "      <td>262</td>\n",
              "      <td>...</td>\n",
              "      <td>12908.0</td>\n",
              "      <td>0,06</td>\n",
              "      <td>142,47</td>\n",
              "      <td>11194,12</td>\n",
              "      <td>Diversas Unidades</td>\n",
              "      <td>Sim</td>\n",
              "      <td>1641.0</td>\n",
              "      <td>87,15</td>\n",
              "      <td>Sim</td>\n",
              "      <td>5,27</td>\n",
              "    </tr>\n",
              "    <tr>\n",
              "      <th>4</th>\n",
              "      <td>2014</td>\n",
              "      <td>72,33</td>\n",
              "      <td>82,74</td>\n",
              "      <td>79,94</td>\n",
              "      <td>63,02</td>\n",
              "      <td>58,49</td>\n",
              "      <td>620</td>\n",
              "      <td>470</td>\n",
              "      <td>390</td>\n",
              "      <td>258</td>\n",
              "      <td>...</td>\n",
              "      <td>12921.0</td>\n",
              "      <td>0,05</td>\n",
              "      <td>137,90</td>\n",
              "      <td>12165,39</td>\n",
              "      <td>Diversas Unidades</td>\n",
              "      <td>Sim</td>\n",
              "      <td>2917.0</td>\n",
              "      <td>92,76</td>\n",
              "      <td>Sim</td>\n",
              "      <td>5,57</td>\n",
              "    </tr>\n",
              "  </tbody>\n",
              "</table>\n",
              "<p>5 rows × 280 columns</p>\n",
              "</div>"
            ],
            "text/plain": [
              "    Ano Taxa de atendimento escolar às crianças de 4 e 5 anos  \\\n",
              "0  2010                                              71,43      \n",
              "1  2011                                              66,47      \n",
              "2  2012                                              63,56      \n",
              "3  2013                                              67,48      \n",
              "4  2014                                              72,33      \n",
              "\n",
              "  Taxa de escolarização líquida do Ensino Fundamental  \\\n",
              "0                                             100,00    \n",
              "1                                              75,56    \n",
              "2                                              72,18    \n",
              "3                                              81,49    \n",
              "4                                              82,74    \n",
              "\n",
              "  Taxa de crianças que frequentam o Ensino Fundamental na série adequada  \\\n",
              "0                                              87,56                       \n",
              "1                                              69,45                       \n",
              "2                                              66,43                       \n",
              "3                                              78,30                       \n",
              "4                                              79,94                       \n",
              "\n",
              "  Taxa de escolarização líquida do Ensino Médio  \\\n",
              "0                                         67,44   \n",
              "1                                         64,87   \n",
              "2                                         62,90   \n",
              "3                                         62,60   \n",
              "4                                         63,02   \n",
              "\n",
              "  Taxa de adolescentes que frequentam o Ensino Médio na série adequada  \\\n",
              "0                                              59,44                     \n",
              "1                                              57,03                     \n",
              "2                                              55,32                     \n",
              "3                                              57,66                     \n",
              "4                                              58,49                     \n",
              "\n",
              "   Total de escolas que oferecem os anos iniciais do Ensino Fundamental Regular  \\\n",
              "0                                                678                              \n",
              "1                                                663                              \n",
              "2                                                653                              \n",
              "3                                                650                              \n",
              "4                                                620                              \n",
              "\n",
              "   Total de escolas que oferecem os anos finais do Ensino Fundamental Regular  \\\n",
              "0                                                466                            \n",
              "1                                                472                            \n",
              "2                                                464                            \n",
              "3                                                473                            \n",
              "4                                                470                            \n",
              "\n",
              "   Total de escolas que oferecem o Ensino Fundamental Regular completo  \\\n",
              "0                                                390                     \n",
              "1                                                396                     \n",
              "2                                                389                     \n",
              "3                                                395                     \n",
              "4                                                390                     \n",
              "\n",
              "   Total de escolas que oferecem o Ensino Médio Regular  ...  \\\n",
              "0                                                257     ...   \n",
              "1                                                261     ...   \n",
              "2                                                264     ...   \n",
              "3                                                262     ...   \n",
              "4                                                258     ...   \n",
              "\n",
              "  Número de policiais militares  \\\n",
              "0                       13389.0   \n",
              "1                       13265.0   \n",
              "2                       11823.0   \n",
              "3                       12908.0   \n",
              "4                       12921.0   \n",
              "\n",
              "  Razão entre homicídios dolosos e policial militar  \\\n",
              "0                                              0,05   \n",
              "1                                              0,06   \n",
              "2                                              0,07   \n",
              "3                                              0,06   \n",
              "4                                              0,05   \n",
              "\n",
              "  Habitantes por policial civil ou militar Habitantes por juiz na comarca  \\\n",
              "0                                   177,40                       13889,77   \n",
              "1                                   143,97                       11866,60   \n",
              "2                                      NaN                       12378,87   \n",
              "3                                   142,47                       11194,12   \n",
              "4                                   137,90                       12165,39   \n",
              "\n",
              "                Natureza da unidade policial militar  \\\n",
              "0  Sede da 1ª RPM e do 1º, 5º, 13º, 16º, 22º,34º,...   \n",
              "1  Sede da 1ª RPM e do 1º, 5º, 13º, 16º, 22º,34º,...   \n",
              "2                                             1ª RPM   \n",
              "3                                  Diversas Unidades   \n",
              "4                                  Diversas Unidades   \n",
              "\n",
              "  Existência de unidade prisional  \\\n",
              "0                             Sim   \n",
              "1                             Sim   \n",
              "2                             Sim   \n",
              "3                             Sim   \n",
              "4                             Sim   \n",
              "\n",
              "  Número de pessoas presas em estabelecimento da SEJUSP  \\\n",
              "0                                            11805.0      \n",
              "1                                             1954.0      \n",
              "2                                             1370.0      \n",
              "3                                             1641.0      \n",
              "4                                             2917.0      \n",
              "\n",
              "  Taxa de ocupação penitenciária em estabelecimento da SEJUSP no município.  \\\n",
              "0                                             186,27                          \n",
              "1                                             199,01                          \n",
              "2                                             133,02                          \n",
              "3                                              87,15                          \n",
              "4                                              92,76                          \n",
              "\n",
              "  O município é sede de comarca Número de médicos por 1000 habitantes  \n",
              "0                           Sim                                  4,61  \n",
              "1                           Sim                                  4,78  \n",
              "2                           Sim                                  4,99  \n",
              "3                           Sim                                  5,27  \n",
              "4                           Sim                                  5,57  \n",
              "\n",
              "[5 rows x 280 columns]"
            ]
          },
          "execution_count": 13,
          "metadata": {},
          "output_type": "execute_result"
        }
      ],
      "source": [
        "df.head()"
      ]
    },
    {
      "cell_type": "markdown",
      "id": "7314c663",
      "metadata": {
        "id": "7314c663"
      },
      "source": [
        "### Codificação da base de dados MERGED"
      ]
    },
    {
      "cell_type": "code",
      "execution_count": 14,
      "id": "18fd6575",
      "metadata": {},
      "outputs": [
        {
          "name": "stdout",
          "output_type": "stream",
          "text": [
            "<class 'pandas.core.frame.DataFrame'>\n",
            "RangeIndex: 14 entries, 0 to 13\n",
            "Columns: 281 entries, Ano to Número de médicos por 1000 habitantes\n",
            "dtypes: float64(30), int64(9), object(242)\n",
            "memory usage: 30.9+ KB\n"
          ]
        }
      ],
      "source": [
        "df_merged.info()"
      ]
    },
    {
      "cell_type": "markdown",
      "id": "84199162",
      "metadata": {
        "id": "84199162"
      },
      "source": [
        "##### LabelEncoder"
      ]
    },
    {
      "cell_type": "code",
      "execution_count": 15,
      "id": "bcb009a2",
      "metadata": {
        "colab": {
          "base_uri": "https://localhost:8080/",
          "height": 499
        },
        "id": "bcb009a2",
        "outputId": "6acddd70-f77d-461d-a254-df8c3b062c32"
      },
      "outputs": [
        {
          "data": {
            "text/html": [
              "<div>\n",
              "<style scoped>\n",
              "    .dataframe tbody tr th:only-of-type {\n",
              "        vertical-align: middle;\n",
              "    }\n",
              "\n",
              "    .dataframe tbody tr th {\n",
              "        vertical-align: top;\n",
              "    }\n",
              "\n",
              "    .dataframe thead th {\n",
              "        text-align: right;\n",
              "    }\n",
              "</style>\n",
              "<table border=\"1\" class=\"dataframe\">\n",
              "  <thead>\n",
              "    <tr style=\"text-align: right;\">\n",
              "      <th></th>\n",
              "      <th>Ano</th>\n",
              "      <th>Casos</th>\n",
              "      <th>Taxa de atendimento escolar às crianças de 4 e 5 anos</th>\n",
              "      <th>Taxa de escolarização líquida do Ensino Fundamental</th>\n",
              "      <th>Taxa de crianças que frequentam o Ensino Fundamental na série adequada</th>\n",
              "      <th>Taxa de escolarização líquida do Ensino Médio</th>\n",
              "      <th>Taxa de adolescentes que frequentam o Ensino Médio na série adequada</th>\n",
              "      <th>Total de escolas que oferecem os anos iniciais do Ensino Fundamental Regular</th>\n",
              "      <th>Total de escolas que oferecem os anos finais do Ensino Fundamental Regular</th>\n",
              "      <th>Total de escolas que oferecem o Ensino Fundamental Regular completo</th>\n",
              "      <th>...</th>\n",
              "      <th>Número de policiais militares</th>\n",
              "      <th>Razão entre homicídios dolosos e policial militar</th>\n",
              "      <th>Habitantes por policial civil ou militar</th>\n",
              "      <th>Habitantes por juiz na comarca</th>\n",
              "      <th>Natureza da unidade policial militar</th>\n",
              "      <th>Existência de unidade prisional</th>\n",
              "      <th>Número de pessoas presas em estabelecimento da SEJUSP</th>\n",
              "      <th>Taxa de ocupação penitenciária em estabelecimento da SEJUSP no município.</th>\n",
              "      <th>O município é sede de comarca</th>\n",
              "      <th>Número de médicos por 1000 habitantes</th>\n",
              "    </tr>\n",
              "  </thead>\n",
              "  <tbody>\n",
              "    <tr>\n",
              "      <th>0</th>\n",
              "      <td>9</td>\n",
              "      <td>1121</td>\n",
              "      <td>12</td>\n",
              "      <td>11</td>\n",
              "      <td>9</td>\n",
              "      <td>6</td>\n",
              "      <td>8</td>\n",
              "      <td>642</td>\n",
              "      <td>435</td>\n",
              "      <td>354</td>\n",
              "      <td>...</td>\n",
              "      <td>11704.0</td>\n",
              "      <td>0</td>\n",
              "      <td>7</td>\n",
              "      <td>6</td>\n",
              "      <td>3</td>\n",
              "      <td>0</td>\n",
              "      <td>1754.0</td>\n",
              "      <td>4</td>\n",
              "      <td>1</td>\n",
              "      <td>9</td>\n",
              "    </tr>\n",
              "    <tr>\n",
              "      <th>1</th>\n",
              "      <td>8</td>\n",
              "      <td>1100</td>\n",
              "      <td>10</td>\n",
              "      <td>10</td>\n",
              "      <td>8</td>\n",
              "      <td>10</td>\n",
              "      <td>10</td>\n",
              "      <td>627</td>\n",
              "      <td>444</td>\n",
              "      <td>364</td>\n",
              "      <td>...</td>\n",
              "      <td>11665.0</td>\n",
              "      <td>1</td>\n",
              "      <td>5</td>\n",
              "      <td>5</td>\n",
              "      <td>1</td>\n",
              "      <td>1</td>\n",
              "      <td>NaN</td>\n",
              "      <td>11</td>\n",
              "      <td>1</td>\n",
              "      <td>8</td>\n",
              "    </tr>\n",
              "    <tr>\n",
              "      <th>2</th>\n",
              "      <td>13</td>\n",
              "      <td>983</td>\n",
              "      <td>0</td>\n",
              "      <td>0</td>\n",
              "      <td>11</td>\n",
              "      <td>12</td>\n",
              "      <td>11</td>\n",
              "      <td>610</td>\n",
              "      <td>434</td>\n",
              "      <td>356</td>\n",
              "      <td>...</td>\n",
              "      <td>NaN</td>\n",
              "      <td>5</td>\n",
              "      <td>11</td>\n",
              "      <td>11</td>\n",
              "      <td>6</td>\n",
              "      <td>1</td>\n",
              "      <td>NaN</td>\n",
              "      <td>11</td>\n",
              "      <td>2</td>\n",
              "      <td>13</td>\n",
              "    </tr>\n",
              "    <tr>\n",
              "      <th>3</th>\n",
              "      <td>7</td>\n",
              "      <td>898</td>\n",
              "      <td>9</td>\n",
              "      <td>7</td>\n",
              "      <td>5</td>\n",
              "      <td>9</td>\n",
              "      <td>9</td>\n",
              "      <td>622</td>\n",
              "      <td>462</td>\n",
              "      <td>377</td>\n",
              "      <td>...</td>\n",
              "      <td>12098.0</td>\n",
              "      <td>1</td>\n",
              "      <td>3</td>\n",
              "      <td>7</td>\n",
              "      <td>4</td>\n",
              "      <td>0</td>\n",
              "      <td>3082.0</td>\n",
              "      <td>6</td>\n",
              "      <td>0</td>\n",
              "      <td>7</td>\n",
              "    </tr>\n",
              "    <tr>\n",
              "      <th>4</th>\n",
              "      <td>12</td>\n",
              "      <td>818</td>\n",
              "      <td>13</td>\n",
              "      <td>0</td>\n",
              "      <td>11</td>\n",
              "      <td>13</td>\n",
              "      <td>11</td>\n",
              "      <td>622</td>\n",
              "      <td>433</td>\n",
              "      <td>358</td>\n",
              "      <td>...</td>\n",
              "      <td>NaN</td>\n",
              "      <td>5</td>\n",
              "      <td>11</td>\n",
              "      <td>11</td>\n",
              "      <td>6</td>\n",
              "      <td>1</td>\n",
              "      <td>NaN</td>\n",
              "      <td>11</td>\n",
              "      <td>2</td>\n",
              "      <td>12</td>\n",
              "    </tr>\n",
              "  </tbody>\n",
              "</table>\n",
              "<p>5 rows × 281 columns</p>\n",
              "</div>"
            ],
            "text/plain": [
              "   Ano  Casos  Taxa de atendimento escolar às crianças de 4 e 5 anos  \\\n",
              "0    9   1121                                                 12       \n",
              "1    8   1100                                                 10       \n",
              "2   13    983                                                  0       \n",
              "3    7    898                                                  9       \n",
              "4   12    818                                                 13       \n",
              "\n",
              "   Taxa de escolarização líquida do Ensino Fundamental  \\\n",
              "0                                                 11     \n",
              "1                                                 10     \n",
              "2                                                  0     \n",
              "3                                                  7     \n",
              "4                                                  0     \n",
              "\n",
              "   Taxa de crianças que frequentam o Ensino Fundamental na série adequada  \\\n",
              "0                                                  9                        \n",
              "1                                                  8                        \n",
              "2                                                 11                        \n",
              "3                                                  5                        \n",
              "4                                                 11                        \n",
              "\n",
              "   Taxa de escolarização líquida do Ensino Médio  \\\n",
              "0                                              6   \n",
              "1                                             10   \n",
              "2                                             12   \n",
              "3                                              9   \n",
              "4                                             13   \n",
              "\n",
              "   Taxa de adolescentes que frequentam o Ensino Médio na série adequada  \\\n",
              "0                                                  8                      \n",
              "1                                                 10                      \n",
              "2                                                 11                      \n",
              "3                                                  9                      \n",
              "4                                                 11                      \n",
              "\n",
              "   Total de escolas que oferecem os anos iniciais do Ensino Fundamental Regular  \\\n",
              "0                                                642                              \n",
              "1                                                627                              \n",
              "2                                                610                              \n",
              "3                                                622                              \n",
              "4                                                622                              \n",
              "\n",
              "   Total de escolas que oferecem os anos finais do Ensino Fundamental Regular  \\\n",
              "0                                                435                            \n",
              "1                                                444                            \n",
              "2                                                434                            \n",
              "3                                                462                            \n",
              "4                                                433                            \n",
              "\n",
              "   Total de escolas que oferecem o Ensino Fundamental Regular completo  ...  \\\n",
              "0                                                354                    ...   \n",
              "1                                                364                    ...   \n",
              "2                                                356                    ...   \n",
              "3                                                377                    ...   \n",
              "4                                                358                    ...   \n",
              "\n",
              "   Número de policiais militares  \\\n",
              "0                        11704.0   \n",
              "1                        11665.0   \n",
              "2                            NaN   \n",
              "3                        12098.0   \n",
              "4                            NaN   \n",
              "\n",
              "   Razão entre homicídios dolosos e policial militar  \\\n",
              "0                                                  0   \n",
              "1                                                  1   \n",
              "2                                                  5   \n",
              "3                                                  1   \n",
              "4                                                  5   \n",
              "\n",
              "   Habitantes por policial civil ou militar  Habitantes por juiz na comarca  \\\n",
              "0                                         7                               6   \n",
              "1                                         5                               5   \n",
              "2                                        11                              11   \n",
              "3                                         3                               7   \n",
              "4                                        11                              11   \n",
              "\n",
              "   Natureza da unidade policial militar  Existência de unidade prisional  \\\n",
              "0                                     3                                0   \n",
              "1                                     1                                1   \n",
              "2                                     6                                1   \n",
              "3                                     4                                0   \n",
              "4                                     6                                1   \n",
              "\n",
              "   Número de pessoas presas em estabelecimento da SEJUSP  \\\n",
              "0                                             1754.0       \n",
              "1                                                NaN       \n",
              "2                                                NaN       \n",
              "3                                             3082.0       \n",
              "4                                                NaN       \n",
              "\n",
              "   Taxa de ocupação penitenciária em estabelecimento da SEJUSP no município.  \\\n",
              "0                                                  4                           \n",
              "1                                                 11                           \n",
              "2                                                 11                           \n",
              "3                                                  6                           \n",
              "4                                                 11                           \n",
              "\n",
              "   O município é sede de comarca  Número de médicos por 1000 habitantes  \n",
              "0                              1                                      9  \n",
              "1                              1                                      8  \n",
              "2                              2                                     13  \n",
              "3                              0                                      7  \n",
              "4                              2                                     12  \n",
              "\n",
              "[5 rows x 281 columns]"
            ]
          },
          "execution_count": 15,
          "metadata": {},
          "output_type": "execute_result"
        }
      ],
      "source": [
        "from sklearn.preprocessing import LabelEncoder\n",
        "# Criar uma cópia do DataFrame\n",
        "dk = df_merged.copy()\n",
        "\n",
        "# Aplicar LabelEncoder apenas às colunas categóricas\n",
        "label_encoders = {}\n",
        "for col in dk.select_dtypes(include=['object', 'category']).columns:\n",
        "    le = LabelEncoder()\n",
        "    dk[col] = le.fit_transform(dk[col])\n",
        "    label_encoders[col] = le  # Armazena o encoder caso precise reverter depois\n",
        "dk.head()"
      ]
    },
    {
      "cell_type": "markdown",
      "id": "755b2242",
      "metadata": {
        "id": "755b2242"
      },
      "source": [
        "### Normalização dos Dados"
      ]
    },
    {
      "cell_type": "code",
      "execution_count": 16,
      "id": "e6f01f6c",
      "metadata": {
        "id": "e6f01f6c"
      },
      "outputs": [],
      "source": [
        "from sklearn.preprocessing import MinMaxScaler\n",
        "from sklearn.preprocessing import StandardScaler"
      ]
    },
    {
      "cell_type": "markdown",
      "id": "f3ecdc3f",
      "metadata": {
        "id": "f3ecdc3f"
      },
      "source": [
        "##### MinMaxScaler"
      ]
    },
    {
      "cell_type": "code",
      "execution_count": 17,
      "id": "24bec061",
      "metadata": {
        "id": "24bec061"
      },
      "outputs": [],
      "source": [
        "scaler = MinMaxScaler()\n",
        "dk = pd.DataFrame(scaler.fit_transform(dk), columns=dk.columns)\n"
      ]
    },
    {
      "cell_type": "markdown",
      "id": "28a77521",
      "metadata": {
        "id": "28a77521"
      },
      "source": [
        "### CORRELAÇÃO"
      ]
    },
    {
      "cell_type": "markdown",
      "id": "282a1114",
      "metadata": {
        "id": "282a1114"
      },
      "source": [
        "##### Pearson"
      ]
    },
    {
      "cell_type": "code",
      "execution_count": 18,
      "id": "1b89f073",
      "metadata": {
        "colab": {
          "base_uri": "https://localhost:8080/"
        },
        "id": "1b89f073",
        "outputId": "448dfd5f-a77f-41b8-91b7-8c3f7a388fca"
      },
      "outputs": [
        {
          "name": "stdout",
          "output_type": "stream",
          "text": [
            "Casos                                                                                                   1.000000\n",
            "Valor Adicionado Fiscal (VAF) dos serviços industriais de utilidade pública                             0.910365\n",
            "Taxa de atendimento escolar das crianças de 0 a 3 anos de idade                                         0.899054\n",
            "Participação da administração pública no Valor Adicionado                                               0.897157\n",
            "Deficientes beneficiados pelo BPC                                                                       0.893572\n",
            "                                                                                                          ...   \n",
            "Percentual de matrículas no Ensino Fundamental em estabelecimentos da rede estadual                    -0.887226\n",
            "Percentual de matrículas no Ensino Médio em estabelecimentos da rede municipal                         -0.890725\n",
            "Taxa de alunos em escolas com laboratório de informática - Ensino Médio                                -0.915888\n",
            "Percentual de matrículas na Educação Infantil em estabelecimentos da rede estadual                     -0.917163\n",
            "Percentual de matrículas nos anos iniciais do Ensino Fundamental em estabelecimentos da rede federal   -0.948187\n",
            "Name: Casos, Length: 141, dtype: float64\n"
          ]
        }
      ],
      "source": [
        "correlation_matrix = dk.corr()\n",
        "correlations = correlation_matrix[\"Casos\"]\n",
        "\n",
        "strong_correlations = correlations[correlations.abs() > 0.5].sort_values(ascending=False)\n",
        "\n",
        "print(strong_correlations)\n"
      ]
    },
    {
      "cell_type": "markdown",
      "id": "0c15f0dc",
      "metadata": {
        "id": "0c15f0dc"
      },
      "source": [
        "##### Spearman"
      ]
    },
    {
      "cell_type": "code",
      "execution_count": 19,
      "id": "6aeb94b0",
      "metadata": {
        "colab": {
          "base_uri": "https://localhost:8080/"
        },
        "id": "6aeb94b0",
        "outputId": "a7b3458b-35c1-4155-989c-af1852f0a53a"
      },
      "outputs": [
        {
          "name": "stdout",
          "output_type": "stream",
          "text": [
            "Casos                                                                                                   1.000000\n",
            "Taxa de atendimento escolar das crianças de 0 a 3 anos de idade                                         0.903297\n",
            "Deficientes beneficiados pelo BPC                                                                       0.903297\n",
            "Valor Adicionado Fiscal (VAF) dos serviços industriais de utilidade pública                             0.903297\n",
            "Participação da administração pública no Valor Adicionado                                               0.891090\n",
            "                                                                                                          ...   \n",
            "Número de ocorrências de Porte ilegal de arma de fogo                                                  -0.890909\n",
            "Percentual de matrículas no Ensino Fundamental em estabelecimentos da rede estadual                    -0.894048\n",
            "Percentual de matrículas na Educação Infantil em estabelecimentos da rede estadual                     -0.903298\n",
            "Percentual de matrículas nos anos iniciais do Ensino Fundamental em estabelecimentos da rede federal   -0.908257\n",
            "Taxa de alunos em escolas com laboratório de informática - Ensino Médio                                -0.916484\n",
            "Name: Casos, Length: 141, dtype: float64\n"
          ]
        }
      ],
      "source": [
        "correlation_matrix = dk.corr(method=\"spearman\")\n",
        "correlations = correlation_matrix[\"Casos\"]\n",
        "\n",
        "strong_correlations = correlations[correlations.abs() > 0.5].sort_values(ascending=False)\n",
        "\n",
        "print(strong_correlations)\n"
      ]
    }
  ],
  "metadata": {
    "colab": {
      "provenance": []
    },
    "kernelspec": {
      "display_name": "base",
      "language": "python",
      "name": "python3"
    },
    "language_info": {
      "codemirror_mode": {
        "name": "ipython",
        "version": 3
      },
      "file_extension": ".py",
      "mimetype": "text/x-python",
      "name": "python",
      "nbconvert_exporter": "python",
      "pygments_lexer": "ipython3",
      "version": "3.12.4"
    }
  },
  "nbformat": 4,
  "nbformat_minor": 5
}
