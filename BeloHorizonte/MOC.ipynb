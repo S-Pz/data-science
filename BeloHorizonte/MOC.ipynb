{
  "cells": [
    {
      "cell_type": "code",
      "execution_count": 110,
      "id": "97224256",
      "metadata": {
        "id": "97224256"
      },
      "outputs": [],
      "source": [
        "import pandas as pd"
      ]
    },
    {
      "cell_type": "markdown",
      "id": "08223872",
      "metadata": {
        "id": "08223872"
      },
      "source": [
        "#### Base de Dados Síflis"
      ]
    },
    {
      "cell_type": "code",
      "execution_count": 111,
      "id": "e9f4ba05",
      "metadata": {
        "id": "e9f4ba05"
      },
      "outputs": [],
      "source": [
        "data = pd.read_csv(\"babf2604-06a5-42b9-8038-0ea1d54051fb.csv\")\n",
        "dbh = data[data['ID_MUNICIP'] == \"BELO HORIZONTE\"]\n",
        "dbh = dbh[dbh[\"NU_ANO\"] != 2024]\n",
        "df_agrupado = dbh['NU_ANO'].value_counts().reset_index()\n",
        "df_agrupado.columns = ['Ano', 'Casos']"
      ]
    },
    {
      "cell_type": "markdown",
      "id": "8ec54692",
      "metadata": {
        "id": "8ec54692"
      },
      "source": [
        "#### Base de Educação\n",
        "\n",
        "Acesso e Gestão"
      ]
    },
    {
      "cell_type": "code",
      "execution_count": 112,
      "id": "ec0561ab",
      "metadata": {
        "id": "ec0561ab"
      },
      "outputs": [],
      "source": [
        "df = pd.read_csv(\"EducacaoBH.csv\",encoding=\"latin1\", sep=\";\")\n",
        "df = df[df[\"Ano\"] >= 2010]"
      ]
    },
    {
      "cell_type": "code",
      "execution_count": 113,
      "id": "x2nLoMboEhU1",
      "metadata": {
        "colab": {
          "base_uri": "https://localhost:8080/"
        },
        "id": "x2nLoMboEhU1",
        "outputId": "ccb3e138-db64-470a-8dfc-89833e4e9a43"
      },
      "outputs": [
        {
          "data": {
            "text/plain": [
              "Index(['Ano', 'Taxa de atendimento escolar às crianças de 4 e 5 anos',\n",
              "       'Taxa de escolarização líquida do Ensino Fundamental',\n",
              "       'Taxa de escolarização líquida do Ensino Médio',\n",
              "       'Total de escolas que oferecem os anos iniciais do Ensino Fundamental Regular',\n",
              "       'Total de escolas que oferecem os anos finais do Ensino Fundamental Regular',\n",
              "       'Total de escolas que oferecem o Ensino Fundamental Regular completo',\n",
              "       'Total de escolas que oferecem o Ensino Médio Regular',\n",
              "       'Taxa de matriculados no Ensino Fundamental com 15 anos ou mais de idade',\n",
              "       'Taxa de matriculados no Ensino Médio com 18 anos ou mais de idade',\n",
              "       'Taxa de pessoas de 15 anos ou mais na EJA-fundamental',\n",
              "       'Taxa de pessoas de 18 anos ou mais na EJA-médio',\n",
              "       'Taxa de alunos em escolas com laboratório de informática - Ensino Fundamental',\n",
              "       'Taxa de alunos em escolas com Internet - Ensino Fundamental',\n",
              "       'Taxa de alunos em escolas com laboratório de informática - Ensino Médio',\n",
              "       'Taxa de alunos em escolas com Internet - Ensino Médio',\n",
              "       'Taxa de atendimento escolar das crianças de 0 a 3 anos de idade',\n",
              "       'Taxa de atendimento escolar aos adolescentes de 15 a 17 anos de idade',\n",
              "       'Percentual de matrículas na Educação Infantil em estabelecimentos da rede federal',\n",
              "       'Percentual de matrículas na Educação Infantil em estabelecimentos da rede estadual',\n",
              "       'Percentual de matrículas na Educação Infantil em estabelecimentos da rede municipal',\n",
              "       'Percentual de matrículas na Educação Infantil em estabelecimentos da rede particular',\n",
              "       'Percentual de matrículas no Ensino Fundamental em estabelecimentos da rede federal',\n",
              "       'Percentual de matrículas no Ensino Fundamental em estabelecimentos da rede estadual',\n",
              "       'Percentual de matrículas no Ensino Fundamental em estabelecimentos da rede municipal',\n",
              "       'Percentual de matrículas no Ensino Fundamental em estabelecimentos da rede particular',\n",
              "       'Percentual de matrículas nos anos iniciais do Ensino Fundamental em estabelecimentos da rede federal',\n",
              "       'Percentual de matrículas nos anos iniciais do Ensino Fundamental em estabelecimentos da rede estadual',\n",
              "       'Percentual de matrículas nos anos iniciais do Ensino Fundamental em estabelecimentos da rede municipal',\n",
              "       'Percentual de matrículas nos anos iniciais do Ensino Fundamental em estabelecimentos da rede particular',\n",
              "       'Percentual de matrículas nos anos finais do Ensino Fundamental em estabelecimentos da rede federal',\n",
              "       'Percentual de matrículas nos anos finais do Ensino Fundamental em estabelecimentos da rede estadual',\n",
              "       'Percentual de matrículas nos anos finais do Ensino Fundamental em estabelecimentos da rede municipal',\n",
              "       'Percentual de matrículas nos anos finais do Ensino Fundamental em estabelecimentos da rede particular',\n",
              "       'Percentual de matrículas no Ensino Médio em estabelecimentos da rede federal',\n",
              "       'Percentual de matrículas no Ensino Médio em estabelecimentos da rede estadual',\n",
              "       'Percentual de matrículas no Ensino Médio em estabelecimentos da rede municipal',\n",
              "       'Percentual de matrículas no Ensino Médio em estabelecimentos da rede particular',\n",
              "       'Taxa de atendimento da educação básica',\n",
              "       'Percentual de matrícula em tempo integral na Creche',\n",
              "       'Percentual de matrícula em tempo integral na Pré-escola',\n",
              "       'Percentual de matrícula em tempo integral nos anos iniciais do Ensino Fundamental',\n",
              "       'Percentual de matrícula em tempo integral nos anos finais do Ensino Fundamental',\n",
              "       'Percentual de matrícula em tempo integral no Ensino Médio',\n",
              "       'Gasto per capita com atividades de educação',\n",
              "       'Esforço orçamentário em atividades de educação',\n",
              "       'Existência de Conselho Municipal de Educação',\n",
              "       'Existência de Plano Municipal de Educação'],\n",
              "      dtype='object')"
            ]
          },
          "execution_count": 113,
          "metadata": {},
          "output_type": "execute_result"
        }
      ],
      "source": [
        "df.columns"
      ]
    },
    {
      "cell_type": "code",
      "execution_count": 114,
      "id": "70032b24",
      "metadata": {
        "colab": {
          "base_uri": "https://localhost:8080/",
          "height": 1000
        },
        "id": "70032b24",
        "outputId": "82023709-e3ef-4d44-bc2a-0149d7460a3a"
      },
      "outputs": [
        {
          "data": {
            "text/plain": [
              "Ano                                                                                                         0\n",
              "Taxa de atendimento escolar às crianças de 4 e 5 anos                                                       1\n",
              "Taxa de escolarização líquida do Ensino Fundamental                                                         1\n",
              "Taxa de escolarização líquida do Ensino Médio                                                               1\n",
              "Total de escolas que oferecem os anos iniciais do Ensino Fundamental Regular                                1\n",
              "Total de escolas que oferecem os anos finais do Ensino Fundamental Regular                                  1\n",
              "Total de escolas que oferecem o Ensino Fundamental Regular completo                                         1\n",
              "Total de escolas que oferecem o Ensino Médio Regular                                                        1\n",
              "Taxa de matriculados no Ensino Fundamental com 15 anos ou mais de idade                                     1\n",
              "Taxa de matriculados no Ensino Médio com 18 anos ou mais de idade                                           1\n",
              "Taxa de pessoas de 15 anos ou mais na EJA-fundamental                                                       3\n",
              "Taxa de pessoas de 18 anos ou mais na EJA-médio                                                             3\n",
              "Taxa de alunos em escolas com laboratório de informática - Ensino Fundamental                               1\n",
              "Taxa de alunos em escolas com Internet - Ensino Fundamental                                                 1\n",
              "Taxa de alunos em escolas com laboratório de informática - Ensino Médio                                     1\n",
              "Taxa de alunos em escolas com Internet - Ensino Médio                                                       1\n",
              "Taxa de atendimento escolar das crianças de 0 a 3 anos de idade                                             1\n",
              "Taxa de atendimento escolar aos adolescentes de 15 a 17 anos de idade                                       1\n",
              "Percentual de matrículas na Educação Infantil em estabelecimentos da rede federal                           4\n",
              "Percentual de matrículas na Educação Infantil em estabelecimentos da rede estadual                          4\n",
              "Percentual de matrículas na Educação Infantil em estabelecimentos da rede municipal                         4\n",
              "Percentual de matrículas na Educação Infantil em estabelecimentos da rede particular                        4\n",
              "Percentual de matrículas no Ensino Fundamental em estabelecimentos da rede federal                          4\n",
              "Percentual de matrículas no Ensino Fundamental em estabelecimentos da rede estadual                         4\n",
              "Percentual de matrículas no Ensino Fundamental em estabelecimentos da rede municipal                        4\n",
              "Percentual de matrículas no Ensino Fundamental em estabelecimentos da rede particular                       4\n",
              "Percentual de matrículas nos anos iniciais do Ensino Fundamental em estabelecimentos da rede federal        4\n",
              "Percentual de matrículas nos anos iniciais do Ensino Fundamental em estabelecimentos da rede estadual       4\n",
              "Percentual de matrículas nos anos iniciais do Ensino Fundamental em estabelecimentos da rede municipal      4\n",
              "Percentual de matrículas nos anos iniciais do Ensino Fundamental em estabelecimentos da rede particular     4\n",
              "Percentual de matrículas nos anos finais do Ensino Fundamental em estabelecimentos da rede federal          4\n",
              "Percentual de matrículas nos anos finais do Ensino Fundamental em estabelecimentos da rede estadual         4\n",
              "Percentual de matrículas nos anos finais do Ensino Fundamental em estabelecimentos da rede municipal        4\n",
              "Percentual de matrículas nos anos finais do Ensino Fundamental em estabelecimentos da rede particular       4\n",
              "Percentual de matrículas no Ensino Médio em estabelecimentos da rede federal                                4\n",
              "Percentual de matrículas no Ensino Médio em estabelecimentos da rede estadual                               4\n",
              "Percentual de matrículas no Ensino Médio em estabelecimentos da rede municipal                              4\n",
              "Percentual de matrículas no Ensino Médio em estabelecimentos da rede particular                             4\n",
              "Taxa de atendimento da educação básica                                                                      4\n",
              "Percentual de matrícula em tempo integral na Creche                                                         6\n",
              "Percentual de matrícula em tempo integral na Pré-escola                                                     6\n",
              "Percentual de matrícula em tempo integral nos anos iniciais do Ensino Fundamental                           6\n",
              "Percentual de matrícula em tempo integral nos anos finais do Ensino Fundamental                             6\n",
              "Percentual de matrícula em tempo integral no Ensino Médio                                                   6\n",
              "Gasto per capita com atividades de educação                                                                 3\n",
              "Esforço orçamentário em atividades de educação                                                              3\n",
              "Existência de Conselho Municipal de Educação                                                                4\n",
              "Existência de Plano Municipal de Educação                                                                  10\n",
              "dtype: int64"
            ]
          },
          "execution_count": 114,
          "metadata": {},
          "output_type": "execute_result"
        }
      ],
      "source": [
        "#Retira todas as colunas que tem valores null > 3\n",
        "df.isnull().sum()\n",
        "#df = df.drop(columns=df.columns[df.isnull().sum() > 3])"
      ]
    },
    {
      "cell_type": "markdown",
      "id": "5b55da50",
      "metadata": {
        "id": "5b55da50"
      },
      "source": [
        "#### Base de Saúde"
      ]
    },
    {
      "cell_type": "code",
      "execution_count": 115,
      "id": "091fcbff",
      "metadata": {
        "id": "091fcbff"
      },
      "outputs": [],
      "source": [
        "df = pd.read_csv(\"SaudeBH.csv\",encoding=\"latin1\", sep=\";\")\n",
        "df = df[df[\"Ano\"] >= 2010]"
      ]
    },
    {
      "cell_type": "code",
      "execution_count": 116,
      "id": "de6608e4",
      "metadata": {
        "id": "de6608e4"
      },
      "outputs": [],
      "source": [
        "#df.isnull().sum()\n",
        "df = df.drop(columns=df.columns[df.isnull().sum() >= 7])"
      ]
    },
    {
      "cell_type": "code",
      "execution_count": 117,
      "id": "ha0jNjG0FmFW",
      "metadata": {
        "colab": {
          "base_uri": "https://localhost:8080/"
        },
        "id": "ha0jNjG0FmFW",
        "outputId": "fa4bd90b-a8a6-43ad-9d24-b038bb72fdf2"
      },
      "outputs": [
        {
          "data": {
            "text/plain": [
              "Index(['Ano',\n",
              "       'Casos confirmados notificados de sífilis congênita em menores de 1 ano',\n",
              "       'Proporção da população atendida pela Estratégia de Saúde da Família',\n",
              "       'Meses de cobertura da Estratégia de Saúde da Família',\n",
              "       'Proporção de nascidos vivos cujas mães realizaram 7 ou mais consultas de pré-natal',\n",
              "       'Cobertura vacinal contra poliomielite em menores de 1 ano',\n",
              "       'Cobertura vacinal de tríplice viral da população de 1 ano de idade',\n",
              "       'Cobertura vacinal de febre amarela em menores de 1 ano',\n",
              "       'Proporção de óbitos por causas mal definidas',\n",
              "       'Proporção de óbitos por causas mal definidas sem assistência médica',\n",
              "       'Proporção de internações por doenças cérebro vasculares na população de 40 anos ou mais',\n",
              "       'Proporção de internações por diabetes mellitus e suas complicações na população de 30 anos ou mais',\n",
              "       'Proporção de internações hospitalares por condições sensíveis à atenção primária (portaria N.º 221 de 17 de abril 2008)',\n",
              "       'Proporção de internações hospitalares por condições sensíveis à atenção primária da população de 1 a 5 anos (portaria N.º 221 de 17 de abril 2008)',\n",
              "       'Proporção de internações hospitalares por condições sensíveis à atenção primária da população de 60 anos ou mais (portaria N.º 221 de 17 de abril 2008)',\n",
              "       'Proporção de internações por fratura de fêmur na população de 60 anos ou mais',\n",
              "       'Proporção das internações de média complexidade de pacientes do SUS encaminhados para outra microrregião',\n",
              "       'Proporção das internações para o parto de pacientes do SUS encaminhadas para outra microrregião',\n",
              "       'Cobertura vacinal de Pentavalente em menores de 1 ano',\n",
              "       'Proporção de internações por condições sensíveis à atenção básica (metodologia do Ministério da Saúde)',\n",
              "       'Gasto per capita com atividades de saúde',\n",
              "       'Esforço orçamentário em atividades de saúde',\n",
              "       'Existência de Conselho Municipal de Saúde'],\n",
              "      dtype='object')"
            ]
          },
          "execution_count": 117,
          "metadata": {},
          "output_type": "execute_result"
        }
      ],
      "source": [
        "df.columns"
      ]
    },
    {
      "cell_type": "markdown",
      "id": "10f5f289",
      "metadata": {
        "id": "10f5f289"
      },
      "source": [
        "##### Base de Renda\n",
        "\n",
        "Gestão"
      ]
    },
    {
      "cell_type": "code",
      "execution_count": 118,
      "id": "73f456c1",
      "metadata": {
        "id": "73f456c1"
      },
      "outputs": [],
      "source": [
        "df = pd.read_csv(\"RendaBH.csv\",encoding=\"latin1\", sep=\";\")\n",
        "df = df[df[\"Ano\"] >= 2010]"
      ]
    },
    {
      "cell_type": "code",
      "execution_count": 119,
      "id": "2eeb282d",
      "metadata": {
        "id": "2eeb282d"
      },
      "outputs": [],
      "source": [
        "#df.isnull().sum()\n",
        "df = df.drop(columns=df.columns[df.isnull().sum() >= 7])"
      ]
    },
    {
      "cell_type": "code",
      "execution_count": 120,
      "id": "TeCuxHk4GUoj",
      "metadata": {
        "colab": {
          "base_uri": "https://localhost:8080/"
        },
        "id": "TeCuxHk4GUoj",
        "outputId": "5dfddc80-e810-4055-cf0d-4210a226a05d"
      },
      "outputs": [
        {
          "data": {
            "text/plain": [
              "13"
            ]
          },
          "execution_count": 120,
          "metadata": {},
          "output_type": "execute_result"
        }
      ],
      "source": [
        "len(df.columns)"
      ]
    },
    {
      "cell_type": "markdown",
      "id": "13bb250e",
      "metadata": {
        "id": "13bb250e"
      },
      "source": [
        "## MERGE DAS BASES"
      ]
    },
    {
      "cell_type": "code",
      "execution_count": 121,
      "id": "ae821ba4",
      "metadata": {
        "id": "ae821ba4"
      },
      "outputs": [],
      "source": [
        "df_agrupado['Ano'] = df_agrupado['Ano'].astype(str)\n",
        "df['Ano'] = df['Ano'].astype(str)\n",
        "\n",
        "df_merged = df_agrupado.merge(df, left_on=\"Ano\", right_on=\"Ano\", how=\"left\")\n"
      ]
    },
    {
      "cell_type": "code",
      "execution_count": 122,
      "id": "BUAuk94aJ6mO",
      "metadata": {
        "colab": {
          "base_uri": "https://localhost:8080/",
          "height": 313
        },
        "id": "BUAuk94aJ6mO",
        "outputId": "b2de54a0-8994-446a-977b-22c971b03720"
      },
      "outputs": [
        {
          "data": {
            "text/html": [
              "<div>\n",
              "<style scoped>\n",
              "    .dataframe tbody tr th:only-of-type {\n",
              "        vertical-align: middle;\n",
              "    }\n",
              "\n",
              "    .dataframe tbody tr th {\n",
              "        vertical-align: top;\n",
              "    }\n",
              "\n",
              "    .dataframe thead th {\n",
              "        text-align: right;\n",
              "    }\n",
              "</style>\n",
              "<table border=\"1\" class=\"dataframe\">\n",
              "  <thead>\n",
              "    <tr style=\"text-align: right;\">\n",
              "      <th></th>\n",
              "      <th>Ano</th>\n",
              "      <th>Gasto per capita com agropecuária</th>\n",
              "      <th>Gasto per capita com desenvolvimento econômico</th>\n",
              "      <th>Gasto per capita com infraestrutura</th>\n",
              "      <th>Gasto per capita com reforma agrária e colonização</th>\n",
              "      <th>Gasto per capita com apoio ao trabalho</th>\n",
              "      <th>Gasto per capita com turismo</th>\n",
              "      <th>Esforço orçamentário em agropecuária</th>\n",
              "      <th>Esforço orçamentário em desenvolvimento econômico</th>\n",
              "      <th>Esforço orçamentário em infraestrutura</th>\n",
              "      <th>Esforço orçamentário em reforma agrária e colonização</th>\n",
              "      <th>Esforço orçamentário em apoio ao trabalho</th>\n",
              "      <th>Esforço orçamentário em turismo</th>\n",
              "    </tr>\n",
              "  </thead>\n",
              "  <tbody>\n",
              "    <tr>\n",
              "      <th>0</th>\n",
              "      <td>2010</td>\n",
              "      <td>0,18</td>\n",
              "      <td>25,56</td>\n",
              "      <td>152,19</td>\n",
              "      <td>0,00</td>\n",
              "      <td>32,95</td>\n",
              "      <td>8,66</td>\n",
              "      <td>0,01</td>\n",
              "      <td>1,13</td>\n",
              "      <td>6,72</td>\n",
              "      <td>0,00</td>\n",
              "      <td>1,46</td>\n",
              "      <td>0,38</td>\n",
              "    </tr>\n",
              "    <tr>\n",
              "      <th>1</th>\n",
              "      <td>2011</td>\n",
              "      <td>0,19</td>\n",
              "      <td>28,37</td>\n",
              "      <td>257,47</td>\n",
              "      <td>0,00</td>\n",
              "      <td>39,60</td>\n",
              "      <td>10,09</td>\n",
              "      <td>0,01</td>\n",
              "      <td>1,08</td>\n",
              "      <td>9,83</td>\n",
              "      <td>0,00</td>\n",
              "      <td>1,51</td>\n",
              "      <td>0,39</td>\n",
              "    </tr>\n",
              "    <tr>\n",
              "      <th>2</th>\n",
              "      <td>2012</td>\n",
              "      <td>0,16</td>\n",
              "      <td>32,64</td>\n",
              "      <td>336,24</td>\n",
              "      <td>0,00</td>\n",
              "      <td>42,55</td>\n",
              "      <td>10,49</td>\n",
              "      <td>0,01</td>\n",
              "      <td>1,08</td>\n",
              "      <td>11,12</td>\n",
              "      <td>0,00</td>\n",
              "      <td>1,41</td>\n",
              "      <td>0,35</td>\n",
              "    </tr>\n",
              "    <tr>\n",
              "      <th>3</th>\n",
              "      <td>2013</td>\n",
              "      <td>0,17</td>\n",
              "      <td>33,90</td>\n",
              "      <td>434,95</td>\n",
              "      <td>0,00</td>\n",
              "      <td>48,11</td>\n",
              "      <td>11,11</td>\n",
              "      <td>0,00</td>\n",
              "      <td>0,95</td>\n",
              "      <td>12,16</td>\n",
              "      <td>0,00</td>\n",
              "      <td>1,35</td>\n",
              "      <td>0,31</td>\n",
              "    </tr>\n",
              "    <tr>\n",
              "      <th>4</th>\n",
              "      <td>2014</td>\n",
              "      <td>0,42</td>\n",
              "      <td>35,12</td>\n",
              "      <td>364,16</td>\n",
              "      <td>0,00</td>\n",
              "      <td>42,63</td>\n",
              "      <td>11,38</td>\n",
              "      <td>0,01</td>\n",
              "      <td>0,95</td>\n",
              "      <td>9,86</td>\n",
              "      <td>0,00</td>\n",
              "      <td>1,15</td>\n",
              "      <td>0,31</td>\n",
              "    </tr>\n",
              "  </tbody>\n",
              "</table>\n",
              "</div>"
            ],
            "text/plain": [
              "    Ano Gasto per capita com agropecuária  \\\n",
              "0  2010                              0,18   \n",
              "1  2011                              0,19   \n",
              "2  2012                              0,16   \n",
              "3  2013                              0,17   \n",
              "4  2014                              0,42   \n",
              "\n",
              "  Gasto per capita com desenvolvimento econômico  \\\n",
              "0                                          25,56   \n",
              "1                                          28,37   \n",
              "2                                          32,64   \n",
              "3                                          33,90   \n",
              "4                                          35,12   \n",
              "\n",
              "  Gasto per capita com infraestrutura  \\\n",
              "0                              152,19   \n",
              "1                              257,47   \n",
              "2                              336,24   \n",
              "3                              434,95   \n",
              "4                              364,16   \n",
              "\n",
              "  Gasto per capita com reforma agrária e colonização  \\\n",
              "0                                               0,00   \n",
              "1                                               0,00   \n",
              "2                                               0,00   \n",
              "3                                               0,00   \n",
              "4                                               0,00   \n",
              "\n",
              "  Gasto per capita com apoio ao trabalho Gasto per capita com turismo  \\\n",
              "0                                  32,95                         8,66   \n",
              "1                                  39,60                        10,09   \n",
              "2                                  42,55                        10,49   \n",
              "3                                  48,11                        11,11   \n",
              "4                                  42,63                        11,38   \n",
              "\n",
              "  Esforço orçamentário em agropecuária  \\\n",
              "0                                 0,01   \n",
              "1                                 0,01   \n",
              "2                                 0,01   \n",
              "3                                 0,00   \n",
              "4                                 0,01   \n",
              "\n",
              "  Esforço orçamentário em desenvolvimento econômico  \\\n",
              "0                                              1,13   \n",
              "1                                              1,08   \n",
              "2                                              1,08   \n",
              "3                                              0,95   \n",
              "4                                              0,95   \n",
              "\n",
              "  Esforço orçamentário em infraestrutura  \\\n",
              "0                                   6,72   \n",
              "1                                   9,83   \n",
              "2                                  11,12   \n",
              "3                                  12,16   \n",
              "4                                   9,86   \n",
              "\n",
              "  Esforço orçamentário em reforma agrária e colonização  \\\n",
              "0                                               0,00      \n",
              "1                                               0,00      \n",
              "2                                               0,00      \n",
              "3                                               0,00      \n",
              "4                                               0,00      \n",
              "\n",
              "  Esforço orçamentário em apoio ao trabalho Esforço orçamentário em turismo  \n",
              "0                                      1,46                            0,38  \n",
              "1                                      1,51                            0,39  \n",
              "2                                      1,41                            0,35  \n",
              "3                                      1,35                            0,31  \n",
              "4                                      1,15                            0,31  "
            ]
          },
          "execution_count": 122,
          "metadata": {},
          "output_type": "execute_result"
        }
      ],
      "source": [
        "df.head()"
      ]
    },
    {
      "cell_type": "markdown",
      "id": "7314c663",
      "metadata": {
        "id": "7314c663"
      },
      "source": [
        "### Codificação da base de dados MERGED"
      ]
    },
    {
      "cell_type": "markdown",
      "id": "84199162",
      "metadata": {
        "id": "84199162"
      },
      "source": [
        "##### LabelEncoder"
      ]
    },
    {
      "cell_type": "code",
      "execution_count": 123,
      "id": "bcb009a2",
      "metadata": {
        "colab": {
          "base_uri": "https://localhost:8080/",
          "height": 499
        },
        "id": "bcb009a2",
        "outputId": "6acddd70-f77d-461d-a254-df8c3b062c32"
      },
      "outputs": [
        {
          "data": {
            "text/html": [
              "<div>\n",
              "<style scoped>\n",
              "    .dataframe tbody tr th:only-of-type {\n",
              "        vertical-align: middle;\n",
              "    }\n",
              "\n",
              "    .dataframe tbody tr th {\n",
              "        vertical-align: top;\n",
              "    }\n",
              "\n",
              "    .dataframe thead th {\n",
              "        text-align: right;\n",
              "    }\n",
              "</style>\n",
              "<table border=\"1\" class=\"dataframe\">\n",
              "  <thead>\n",
              "    <tr style=\"text-align: right;\">\n",
              "      <th></th>\n",
              "      <th>Ano</th>\n",
              "      <th>Casos</th>\n",
              "      <th>Gasto per capita com agropecuária</th>\n",
              "      <th>Gasto per capita com desenvolvimento econômico</th>\n",
              "      <th>Gasto per capita com infraestrutura</th>\n",
              "      <th>Gasto per capita com reforma agrária e colonização</th>\n",
              "      <th>Gasto per capita com apoio ao trabalho</th>\n",
              "      <th>Gasto per capita com turismo</th>\n",
              "      <th>Esforço orçamentário em agropecuária</th>\n",
              "      <th>Esforço orçamentário em desenvolvimento econômico</th>\n",
              "      <th>Esforço orçamentário em infraestrutura</th>\n",
              "      <th>Esforço orçamentário em reforma agrária e colonização</th>\n",
              "      <th>Esforço orçamentário em apoio ao trabalho</th>\n",
              "      <th>Esforço orçamentário em turismo</th>\n",
              "    </tr>\n",
              "  </thead>\n",
              "  <tbody>\n",
              "    <tr>\n",
              "      <th>0</th>\n",
              "      <td>9</td>\n",
              "      <td>1121</td>\n",
              "      <td>0</td>\n",
              "      <td>9</td>\n",
              "      <td>1</td>\n",
              "      <td>1</td>\n",
              "      <td>3</td>\n",
              "      <td>5</td>\n",
              "      <td>0</td>\n",
              "      <td>1</td>\n",
              "      <td>2</td>\n",
              "      <td>0</td>\n",
              "      <td>1</td>\n",
              "      <td>3</td>\n",
              "    </tr>\n",
              "    <tr>\n",
              "      <th>1</th>\n",
              "      <td>8</td>\n",
              "      <td>1100</td>\n",
              "      <td>9</td>\n",
              "      <td>6</td>\n",
              "      <td>6</td>\n",
              "      <td>0</td>\n",
              "      <td>1</td>\n",
              "      <td>2</td>\n",
              "      <td>1</td>\n",
              "      <td>0</td>\n",
              "      <td>5</td>\n",
              "      <td>0</td>\n",
              "      <td>2</td>\n",
              "      <td>3</td>\n",
              "    </tr>\n",
              "    <tr>\n",
              "      <th>2</th>\n",
              "      <td>13</td>\n",
              "      <td>983</td>\n",
              "      <td>10</td>\n",
              "      <td>11</td>\n",
              "      <td>11</td>\n",
              "      <td>2</td>\n",
              "      <td>11</td>\n",
              "      <td>11</td>\n",
              "      <td>2</td>\n",
              "      <td>9</td>\n",
              "      <td>11</td>\n",
              "      <td>1</td>\n",
              "      <td>11</td>\n",
              "      <td>9</td>\n",
              "    </tr>\n",
              "    <tr>\n",
              "      <th>3</th>\n",
              "      <td>7</td>\n",
              "      <td>898</td>\n",
              "      <td>5</td>\n",
              "      <td>7</td>\n",
              "      <td>5</td>\n",
              "      <td>0</td>\n",
              "      <td>2</td>\n",
              "      <td>9</td>\n",
              "      <td>1</td>\n",
              "      <td>3</td>\n",
              "      <td>6</td>\n",
              "      <td>0</td>\n",
              "      <td>3</td>\n",
              "      <td>1</td>\n",
              "    </tr>\n",
              "    <tr>\n",
              "      <th>4</th>\n",
              "      <td>12</td>\n",
              "      <td>818</td>\n",
              "      <td>0</td>\n",
              "      <td>10</td>\n",
              "      <td>7</td>\n",
              "      <td>0</td>\n",
              "      <td>0</td>\n",
              "      <td>6</td>\n",
              "      <td>0</td>\n",
              "      <td>6</td>\n",
              "      <td>3</td>\n",
              "      <td>0</td>\n",
              "      <td>0</td>\n",
              "      <td>2</td>\n",
              "    </tr>\n",
              "  </tbody>\n",
              "</table>\n",
              "</div>"
            ],
            "text/plain": [
              "   Ano  Casos  Gasto per capita com agropecuária  \\\n",
              "0    9   1121                                  0   \n",
              "1    8   1100                                  9   \n",
              "2   13    983                                 10   \n",
              "3    7    898                                  5   \n",
              "4   12    818                                  0   \n",
              "\n",
              "   Gasto per capita com desenvolvimento econômico  \\\n",
              "0                                               9   \n",
              "1                                               6   \n",
              "2                                              11   \n",
              "3                                               7   \n",
              "4                                              10   \n",
              "\n",
              "   Gasto per capita com infraestrutura  \\\n",
              "0                                    1   \n",
              "1                                    6   \n",
              "2                                   11   \n",
              "3                                    5   \n",
              "4                                    7   \n",
              "\n",
              "   Gasto per capita com reforma agrária e colonização  \\\n",
              "0                                                  1    \n",
              "1                                                  0    \n",
              "2                                                  2    \n",
              "3                                                  0    \n",
              "4                                                  0    \n",
              "\n",
              "   Gasto per capita com apoio ao trabalho  Gasto per capita com turismo  \\\n",
              "0                                       3                             5   \n",
              "1                                       1                             2   \n",
              "2                                      11                            11   \n",
              "3                                       2                             9   \n",
              "4                                       0                             6   \n",
              "\n",
              "   Esforço orçamentário em agropecuária  \\\n",
              "0                                     0   \n",
              "1                                     1   \n",
              "2                                     2   \n",
              "3                                     1   \n",
              "4                                     0   \n",
              "\n",
              "   Esforço orçamentário em desenvolvimento econômico  \\\n",
              "0                                                  1   \n",
              "1                                                  0   \n",
              "2                                                  9   \n",
              "3                                                  3   \n",
              "4                                                  6   \n",
              "\n",
              "   Esforço orçamentário em infraestrutura  \\\n",
              "0                                       2   \n",
              "1                                       5   \n",
              "2                                      11   \n",
              "3                                       6   \n",
              "4                                       3   \n",
              "\n",
              "   Esforço orçamentário em reforma agrária e colonização  \\\n",
              "0                                                  0       \n",
              "1                                                  0       \n",
              "2                                                  1       \n",
              "3                                                  0       \n",
              "4                                                  0       \n",
              "\n",
              "   Esforço orçamentário em apoio ao trabalho  Esforço orçamentário em turismo  \n",
              "0                                          1                                3  \n",
              "1                                          2                                3  \n",
              "2                                         11                                9  \n",
              "3                                          3                                1  \n",
              "4                                          0                                2  "
            ]
          },
          "execution_count": 123,
          "metadata": {},
          "output_type": "execute_result"
        }
      ],
      "source": [
        "from sklearn.preprocessing import LabelEncoder\n",
        "# Criar uma cópia do DataFrame\n",
        "dk = df_merged.copy()\n",
        "\n",
        "# Aplicar LabelEncoder apenas às colunas categóricas\n",
        "label_encoders = {}\n",
        "for col in dk.select_dtypes(include=['object', 'category']).columns:\n",
        "    le = LabelEncoder()\n",
        "    dk[col] = le.fit_transform(dk[col])\n",
        "    label_encoders[col] = le  # Armazena o encoder caso precise reverter depois\n",
        "dk.head()"
      ]
    },
    {
      "cell_type": "markdown",
      "id": "c79ce8d2",
      "metadata": {
        "id": "c79ce8d2"
      },
      "source": [
        "##### GetDummies"
      ]
    },
    {
      "cell_type": "code",
      "execution_count": 124,
      "id": "829b90e4",
      "metadata": {
        "colab": {
          "base_uri": "https://localhost:8080/",
          "height": 308
        },
        "id": "829b90e4",
        "outputId": "8d790cdd-ab83-4d04-d27d-7f95e92a6d35"
      },
      "outputs": [
        {
          "data": {
            "text/html": [
              "<div>\n",
              "<style scoped>\n",
              "    .dataframe tbody tr th:only-of-type {\n",
              "        vertical-align: middle;\n",
              "    }\n",
              "\n",
              "    .dataframe tbody tr th {\n",
              "        vertical-align: top;\n",
              "    }\n",
              "\n",
              "    .dataframe thead th {\n",
              "        text-align: right;\n",
              "    }\n",
              "</style>\n",
              "<table border=\"1\" class=\"dataframe\">\n",
              "  <thead>\n",
              "    <tr style=\"text-align: right;\">\n",
              "      <th></th>\n",
              "      <th>Casos</th>\n",
              "      <th>Ano_2010</th>\n",
              "      <th>Ano_2011</th>\n",
              "      <th>Ano_2012</th>\n",
              "      <th>Ano_2013</th>\n",
              "      <th>Ano_2014</th>\n",
              "      <th>Ano_2015</th>\n",
              "      <th>Ano_2016</th>\n",
              "      <th>Ano_2017</th>\n",
              "      <th>Ano_2018</th>\n",
              "      <th>...</th>\n",
              "      <th>Esforço orçamentário em apoio ao trabalho_1,51</th>\n",
              "      <th>Esforço orçamentário em turismo_0,20</th>\n",
              "      <th>Esforço orçamentário em turismo_0,24</th>\n",
              "      <th>Esforço orçamentário em turismo_0,25</th>\n",
              "      <th>Esforço orçamentário em turismo_0,26</th>\n",
              "      <th>Esforço orçamentário em turismo_0,27</th>\n",
              "      <th>Esforço orçamentário em turismo_0,31</th>\n",
              "      <th>Esforço orçamentário em turismo_0,35</th>\n",
              "      <th>Esforço orçamentário em turismo_0,38</th>\n",
              "      <th>Esforço orçamentário em turismo_0,39</th>\n",
              "    </tr>\n",
              "  </thead>\n",
              "  <tbody>\n",
              "    <tr>\n",
              "      <th>0</th>\n",
              "      <td>1121</td>\n",
              "      <td>False</td>\n",
              "      <td>False</td>\n",
              "      <td>False</td>\n",
              "      <td>False</td>\n",
              "      <td>False</td>\n",
              "      <td>False</td>\n",
              "      <td>False</td>\n",
              "      <td>False</td>\n",
              "      <td>False</td>\n",
              "      <td>...</td>\n",
              "      <td>False</td>\n",
              "      <td>False</td>\n",
              "      <td>False</td>\n",
              "      <td>False</td>\n",
              "      <td>True</td>\n",
              "      <td>False</td>\n",
              "      <td>False</td>\n",
              "      <td>False</td>\n",
              "      <td>False</td>\n",
              "      <td>False</td>\n",
              "    </tr>\n",
              "    <tr>\n",
              "      <th>1</th>\n",
              "      <td>1100</td>\n",
              "      <td>False</td>\n",
              "      <td>False</td>\n",
              "      <td>False</td>\n",
              "      <td>False</td>\n",
              "      <td>False</td>\n",
              "      <td>False</td>\n",
              "      <td>False</td>\n",
              "      <td>False</td>\n",
              "      <td>True</td>\n",
              "      <td>...</td>\n",
              "      <td>False</td>\n",
              "      <td>False</td>\n",
              "      <td>False</td>\n",
              "      <td>False</td>\n",
              "      <td>True</td>\n",
              "      <td>False</td>\n",
              "      <td>False</td>\n",
              "      <td>False</td>\n",
              "      <td>False</td>\n",
              "      <td>False</td>\n",
              "    </tr>\n",
              "    <tr>\n",
              "      <th>2</th>\n",
              "      <td>983</td>\n",
              "      <td>False</td>\n",
              "      <td>False</td>\n",
              "      <td>False</td>\n",
              "      <td>False</td>\n",
              "      <td>False</td>\n",
              "      <td>False</td>\n",
              "      <td>False</td>\n",
              "      <td>False</td>\n",
              "      <td>False</td>\n",
              "      <td>...</td>\n",
              "      <td>False</td>\n",
              "      <td>False</td>\n",
              "      <td>False</td>\n",
              "      <td>False</td>\n",
              "      <td>False</td>\n",
              "      <td>False</td>\n",
              "      <td>False</td>\n",
              "      <td>False</td>\n",
              "      <td>False</td>\n",
              "      <td>False</td>\n",
              "    </tr>\n",
              "    <tr>\n",
              "      <th>3</th>\n",
              "      <td>898</td>\n",
              "      <td>False</td>\n",
              "      <td>False</td>\n",
              "      <td>False</td>\n",
              "      <td>False</td>\n",
              "      <td>False</td>\n",
              "      <td>False</td>\n",
              "      <td>False</td>\n",
              "      <td>True</td>\n",
              "      <td>False</td>\n",
              "      <td>...</td>\n",
              "      <td>False</td>\n",
              "      <td>False</td>\n",
              "      <td>True</td>\n",
              "      <td>False</td>\n",
              "      <td>False</td>\n",
              "      <td>False</td>\n",
              "      <td>False</td>\n",
              "      <td>False</td>\n",
              "      <td>False</td>\n",
              "      <td>False</td>\n",
              "    </tr>\n",
              "    <tr>\n",
              "      <th>4</th>\n",
              "      <td>818</td>\n",
              "      <td>False</td>\n",
              "      <td>False</td>\n",
              "      <td>False</td>\n",
              "      <td>False</td>\n",
              "      <td>False</td>\n",
              "      <td>False</td>\n",
              "      <td>False</td>\n",
              "      <td>False</td>\n",
              "      <td>False</td>\n",
              "      <td>...</td>\n",
              "      <td>False</td>\n",
              "      <td>False</td>\n",
              "      <td>False</td>\n",
              "      <td>True</td>\n",
              "      <td>False</td>\n",
              "      <td>False</td>\n",
              "      <td>False</td>\n",
              "      <td>False</td>\n",
              "      <td>False</td>\n",
              "      <td>False</td>\n",
              "    </tr>\n",
              "  </tbody>\n",
              "</table>\n",
              "<p>5 rows × 114 columns</p>\n",
              "</div>"
            ],
            "text/plain": [
              "   Casos  Ano_2010  Ano_2011  Ano_2012  Ano_2013  Ano_2014  Ano_2015  \\\n",
              "0   1121     False     False     False     False     False     False   \n",
              "1   1100     False     False     False     False     False     False   \n",
              "2    983     False     False     False     False     False     False   \n",
              "3    898     False     False     False     False     False     False   \n",
              "4    818     False     False     False     False     False     False   \n",
              "\n",
              "   Ano_2016  Ano_2017  Ano_2018  ...  \\\n",
              "0     False     False     False  ...   \n",
              "1     False     False      True  ...   \n",
              "2     False     False     False  ...   \n",
              "3     False      True     False  ...   \n",
              "4     False     False     False  ...   \n",
              "\n",
              "   Esforço orçamentário em apoio ao trabalho_1,51  \\\n",
              "0                                           False   \n",
              "1                                           False   \n",
              "2                                           False   \n",
              "3                                           False   \n",
              "4                                           False   \n",
              "\n",
              "   Esforço orçamentário em turismo_0,20  Esforço orçamentário em turismo_0,24  \\\n",
              "0                                 False                                 False   \n",
              "1                                 False                                 False   \n",
              "2                                 False                                 False   \n",
              "3                                 False                                  True   \n",
              "4                                 False                                 False   \n",
              "\n",
              "   Esforço orçamentário em turismo_0,25  Esforço orçamentário em turismo_0,26  \\\n",
              "0                                 False                                  True   \n",
              "1                                 False                                  True   \n",
              "2                                 False                                 False   \n",
              "3                                 False                                 False   \n",
              "4                                  True                                 False   \n",
              "\n",
              "   Esforço orçamentário em turismo_0,27  Esforço orçamentário em turismo_0,31  \\\n",
              "0                                 False                                 False   \n",
              "1                                 False                                 False   \n",
              "2                                 False                                 False   \n",
              "3                                 False                                 False   \n",
              "4                                 False                                 False   \n",
              "\n",
              "   Esforço orçamentário em turismo_0,35  Esforço orçamentário em turismo_0,38  \\\n",
              "0                                 False                                 False   \n",
              "1                                 False                                 False   \n",
              "2                                 False                                 False   \n",
              "3                                 False                                 False   \n",
              "4                                 False                                 False   \n",
              "\n",
              "   Esforço orçamentário em turismo_0,39  \n",
              "0                                 False  \n",
              "1                                 False  \n",
              "2                                 False  \n",
              "3                                 False  \n",
              "4                                 False  \n",
              "\n",
              "[5 rows x 114 columns]"
            ]
          },
          "execution_count": 124,
          "metadata": {},
          "output_type": "execute_result"
        }
      ],
      "source": [
        "dk = pd.get_dummies(df_merged)\n",
        "dk.head()\n"
      ]
    },
    {
      "cell_type": "markdown",
      "id": "755b2242",
      "metadata": {
        "id": "755b2242"
      },
      "source": [
        "### Normalização dos Dados"
      ]
    },
    {
      "cell_type": "code",
      "execution_count": 125,
      "id": "e6f01f6c",
      "metadata": {
        "id": "e6f01f6c"
      },
      "outputs": [],
      "source": [
        "from sklearn.preprocessing import MinMaxScaler\n",
        "from sklearn.preprocessing import StandardScaler"
      ]
    },
    {
      "cell_type": "markdown",
      "id": "f3ecdc3f",
      "metadata": {
        "id": "f3ecdc3f"
      },
      "source": [
        "##### MinMaxScaler"
      ]
    },
    {
      "cell_type": "code",
      "execution_count": 126,
      "id": "24bec061",
      "metadata": {
        "id": "24bec061"
      },
      "outputs": [],
      "source": [
        "scaler = MinMaxScaler()\n",
        "dk = pd.DataFrame(scaler.fit_transform(dk), columns=dk.columns)\n"
      ]
    },
    {
      "cell_type": "markdown",
      "id": "c45a898d",
      "metadata": {
        "id": "c45a898d"
      },
      "source": [
        "##### StandScaler ( Z-Score )"
      ]
    },
    {
      "cell_type": "code",
      "execution_count": 127,
      "id": "48927276",
      "metadata": {
        "id": "48927276"
      },
      "outputs": [],
      "source": [
        "scaler = StandardScaler()\n",
        "dk = pd.DataFrame(scaler.fit_transform(dk), columns=dk.columns)\n"
      ]
    },
    {
      "cell_type": "markdown",
      "id": "28a77521",
      "metadata": {
        "id": "28a77521"
      },
      "source": [
        "### CORRELAÇÃO"
      ]
    },
    {
      "cell_type": "markdown",
      "id": "282a1114",
      "metadata": {
        "id": "282a1114"
      },
      "source": [
        "##### Pearson"
      ]
    },
    {
      "cell_type": "code",
      "execution_count": 128,
      "id": "1b89f073",
      "metadata": {
        "colab": {
          "base_uri": "https://localhost:8080/"
        },
        "id": "1b89f073",
        "outputId": "448dfd5f-a77f-41b8-91b7-8c3f7a388fca"
      },
      "outputs": [
        {
          "name": "stdout",
          "output_type": "stream",
          "text": [
            "Casos                                                      1.000000\n",
            "Esforço orçamentário em turismo_0,26                       0.584297\n",
            "Gasto per capita com agropecuária_0,00                     0.411787\n",
            "Ano_2019                                                   0.405679\n",
            "Gasto per capita com desenvolvimento econômico_42,40       0.405679\n",
            "Gasto per capita com reforma agrária e colonização_7,14    0.405679\n",
            "Gasto per capita com apoio ao trabalho_23,95               0.405679\n",
            "Gasto per capita com infraestrutura_192,40                 0.405679\n",
            "Gasto per capita com turismo_11,85                         0.405679\n",
            "Esforço orçamentário em desenvolvimento econômico_0,92     0.405679\n",
            "Esforço orçamentário em apoio ao trabalho_0,52             0.405679\n",
            "Esforço orçamentário em infraestrutura_4,20                0.405679\n",
            "Gasto per capita com apoio ao trabalho_23,27               0.388224\n",
            "Gasto per capita com infraestrutura_262,64                 0.388224\n",
            "Gasto per capita com agropecuária_0,55                     0.388224\n",
            "Ano_2018                                                   0.388224\n",
            "Esforço orçamentário em apoio ao trabalho_0,56             0.388224\n",
            "Esforço orçamentário em infraestrutura_6,37                0.388224\n",
            "Esforço orçamentário em desenvolvimento econômico_0,91     0.388224\n",
            "Gasto per capita com turismo_10,69                         0.388224\n",
            "Gasto per capita com desenvolvimento econômico_37,55       0.388224\n",
            "Ano_2023                                                   0.290975\n",
            "Ano_2017                                                   0.220324\n",
            "Gasto per capita com agropecuária_0,22                     0.220324\n",
            "Gasto per capita com infraestrutura_259,58                 0.220324\n",
            "Gasto per capita com desenvolvimento econômico_39,99       0.220324\n",
            "Gasto per capita com apoio ao trabalho_23,59               0.220324\n",
            "Gasto per capita com turismo_9,63                          0.220324\n",
            "Esforço orçamentário em desenvolvimento econômico_1,00     0.220324\n",
            "Esforço orçamentário em infraestrutura_6,47                0.220324\n",
            "Esforço orçamentário em apoio ao trabalho_0,59             0.220324\n",
            "Esforço orçamentário em turismo_0,24                       0.220324\n",
            "Name: Casos, dtype: float64\n"
          ]
        }
      ],
      "source": [
        "correlation_matrix = dk.corr()\n",
        "correlations = correlation_matrix[\"Casos\"]\n",
        "\n",
        "strong_correlations = correlations[correlations > 0.2].sort_values(ascending=False)\n",
        "\n",
        "print(strong_correlations)\n"
      ]
    },
    {
      "cell_type": "markdown",
      "id": "0c15f0dc",
      "metadata": {
        "id": "0c15f0dc"
      },
      "source": [
        "##### Spearman"
      ]
    },
    {
      "cell_type": "code",
      "execution_count": 129,
      "id": "6aeb94b0",
      "metadata": {
        "colab": {
          "base_uri": "https://localhost:8080/"
        },
        "id": "6aeb94b0",
        "outputId": "a7b3458b-35c1-4155-989c-af1852f0a53a"
      },
      "outputs": [
        {
          "name": "stdout",
          "output_type": "stream",
          "text": [
            "Casos                                                      1.000000\n",
            "Esforço orçamentário em turismo_0,26                       0.607644\n",
            "Gasto per capita com agropecuária_0,00                     0.455733\n",
            "Gasto per capita com apoio ao trabalho_23,95               0.447214\n",
            "Gasto per capita com turismo_11,85                         0.447214\n",
            "                                                             ...   \n",
            "Esforço orçamentário em desenvolvimento econômico_1,13    -0.447214\n",
            "Esforço orçamentário em turismo_0,38                      -0.447214\n",
            "Esforço orçamentário em infraestrutura_6,72               -0.447214\n",
            "Gasto per capita com reforma agrária e colonização_0,00   -0.470679\n",
            "Esforço orçamentário em desenvolvimento econômico_1,08    -0.506370\n",
            "Name: Casos, Length: 75, dtype: float64\n"
          ]
        }
      ],
      "source": [
        "correlation_matrix = dk.corr(method=\"spearman\")\n",
        "correlations = correlation_matrix[\"Casos\"]\n",
        "\n",
        "strong_correlations = correlations[correlations.abs() > 0.2].sort_values(ascending=False)\n",
        "\n",
        "print(strong_correlations)\n"
      ]
    }
  ],
  "metadata": {
    "colab": {
      "provenance": []
    },
    "kernelspec": {
      "display_name": "Python 3",
      "language": "python",
      "name": "python3"
    },
    "language_info": {
      "codemirror_mode": {
        "name": "ipython",
        "version": 3
      },
      "file_extension": ".py",
      "mimetype": "text/x-python",
      "name": "python",
      "nbconvert_exporter": "python",
      "pygments_lexer": "ipython3",
      "version": "3.11.1"
    }
  },
  "nbformat": 4,
  "nbformat_minor": 5
}
